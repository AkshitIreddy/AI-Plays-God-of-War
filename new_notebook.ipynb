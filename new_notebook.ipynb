{
 "cells": [
  {
   "cell_type": "code",
   "execution_count": null,
   "metadata": {},
   "outputs": [],
   "source": [
    "from functions.preprocess import preprocess_training_video\n",
    "\n",
    "# Specify the path to your video file\n",
    "video_path = \"training_videos/atreus_training_video.mp4\"\n",
    "\n",
    "# Call the function to perform object detection on the video\n",
    "preprocess_training_video(video_path)"
   ]
  },
  {
   "cell_type": "code",
   "execution_count": null,
   "metadata": {},
   "outputs": [],
   "source": [
    "from functions.dataset import create_dataset\n",
    "\n",
    "# Set the paths to video_paths and set the values in threshold_list\n",
    "video_paths = ['preprocessed_videos/Draugr.mp4', 'preprocessed_videos/Atreus.mp4', 'preprocessed_videos/Kratos.mp4']\n",
    "threshold_list = [0.6, 0.7, 0.9]\n",
    "\n",
    "# Create the dataset\n",
    "create_dataset(video_paths, threshold_list)"
   ]
  },
  {
   "cell_type": "code",
   "execution_count": null,
   "metadata": {},
   "outputs": [],
   "source": [
    "from functions.train import train_model\n",
    "\n",
    "# Set the path to the dataset YAML file\n",
    "dataset_yaml = \"dataset.yaml\"\n",
    "\n",
    "# Set the number of training epochs and image size\n",
    "num_epochs = 100\n",
    "\n",
    "# Set imgsz \n",
    "img_size = 640\n",
    "\n",
    "# Train the model using the dataset\n",
    "train_model(dataset_yaml, num_epochs, img_size)"
   ]
  },
  {
   "cell_type": "code",
   "execution_count": null,
   "metadata": {},
   "outputs": [],
   "source": [
    "from functions.play import play_game\n",
    "import time\n",
    "\n",
    "# sleep for some time to give me time to open the game\n",
    "time.sleep(100)\n",
    "\n",
    "# Call the function to perform object detection on the screen\n",
    "play_game()"
   ]
  }
 ],
 "metadata": {
  "kernelspec": {
   "display_name": "myenv",
   "language": "python",
   "name": "python3"
  },
  "language_info": {
   "codemirror_mode": {
    "name": "ipython",
    "version": 3
   },
   "file_extension": ".py",
   "mimetype": "text/x-python",
   "name": "python",
   "nbconvert_exporter": "python",
   "pygments_lexer": "ipython3",
   "version": "3.11.4"
  },
  "orig_nbformat": 4
 },
 "nbformat": 4,
 "nbformat_minor": 2
}
